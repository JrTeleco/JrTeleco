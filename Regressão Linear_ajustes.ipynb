{
  "nbformat": 4,
  "nbformat_minor": 0,
  "metadata": {
    "colab": {
      "provenance": [],
      "include_colab_link": true
    },
    "kernelspec": {
      "name": "python3",
      "display_name": "Python 3"
    },
    "language_info": {
      "name": "python"
    }
  },
  "cells": [
    {
      "cell_type": "markdown",
      "metadata": {
        "id": "view-in-github",
        "colab_type": "text"
      },
      "source": [
        "<a href=\"https://colab.research.google.com/github/JrTeleco/JrTeleco/blob/main/Regress%C3%A3o%20Linear_ajustes.ipynb\" target=\"_parent\"><img src=\"https://colab.research.google.com/assets/colab-badge.svg\" alt=\"Open In Colab\"/></a>"
      ]
    },
    {
      "cell_type": "markdown",
      "source": [
        "# Semana 2 - Videoula Ajustes | Modelagem e Inferência Estatística – PES310"
      ],
      "metadata": {
        "id": "fNk0s19KGK9h"
      }
    },
    {
      "cell_type": "markdown",
      "source": [
        "# Exercício 1\n",
        "A loja \"GT Auto\" decidiu aprimorar os treinamentos de vendedores inexperientes de carros, criando uma base de dados dos veículos disponíveis que apresente algumas informações importantes para treinar os novos vendedores.\n",
        "A base de dados foi criada em um documento de texto e contém as seguintes informações:\n",
        "\n",
        "*   Marca/Modelo/Ano do carro: brand/model/year\n",
        "*   Capacidade volumétrica (cc) ou volume de deslocamento do motor: cap_vol.\n",
        "*   Consumo de combustível (km/l): consumo.\n",
        "*   Potência (cv): power.\n",
        "*   Peso (kg): weight.\n",
        "*   0-100 (s), tempo que o carro demora para atingir a velocidade de 100km/h: cemm.\n",
        "*   Número de cilindros: nu_cy.\n",
        "*   Tipo de motor, aspirado (0) ou turbo (1): Etype.\n",
        "\n",
        "\n",
        "Após ter realizado a análise dos dados apresentados, obter as equações da reta de mínimos quadrados para prever o consumo de combustível padrão de acordo com a capacidade volumétrica, e, se necessário, separe os dados de acordo com o tipo de motor.\n"
      ],
      "metadata": {
        "id": "HZ0VWy5NB29Y"
      }
    },
    {
      "cell_type": "code",
      "source": [
        "#@title Importar a base de dados\n",
        "#upload carst.csv\n",
        "import numpy as np\n",
        "import pandas as pd\n",
        "import matplotlib.pyplot as plt\n",
        "import seaborn as sns\n",
        "from google.colab import files\n",
        "uploaded = files.upload()\n"
      ],
      "metadata": {
        "colab": {
          "base_uri": "https://localhost:8080/",
          "height": 73
        },
        "id": "YSYDIDUNj88J",
        "outputId": "76af3ed7-6414-4ee0-a694-34872f883a47"
      },
      "execution_count": null,
      "outputs": [
        {
          "output_type": "display_data",
          "data": {
            "text/plain": [
              "<IPython.core.display.HTML object>"
            ],
            "text/html": [
              "\n",
              "     <input type=\"file\" id=\"files-a6de3ba1-9f26-427f-8e56-2b9dd213ed0d\" name=\"files[]\" multiple disabled\n",
              "        style=\"border:none\" />\n",
              "     <output id=\"result-a6de3ba1-9f26-427f-8e56-2b9dd213ed0d\">\n",
              "      Upload widget is only available when the cell has been executed in the\n",
              "      current browser session. Please rerun this cell to enable.\n",
              "      </output>\n",
              "      <script>// Copyright 2017 Google LLC\n",
              "//\n",
              "// Licensed under the Apache License, Version 2.0 (the \"License\");\n",
              "// you may not use this file except in compliance with the License.\n",
              "// You may obtain a copy of the License at\n",
              "//\n",
              "//      http://www.apache.org/licenses/LICENSE-2.0\n",
              "//\n",
              "// Unless required by applicable law or agreed to in writing, software\n",
              "// distributed under the License is distributed on an \"AS IS\" BASIS,\n",
              "// WITHOUT WARRANTIES OR CONDITIONS OF ANY KIND, either express or implied.\n",
              "// See the License for the specific language governing permissions and\n",
              "// limitations under the License.\n",
              "\n",
              "/**\n",
              " * @fileoverview Helpers for google.colab Python module.\n",
              " */\n",
              "(function(scope) {\n",
              "function span(text, styleAttributes = {}) {\n",
              "  const element = document.createElement('span');\n",
              "  element.textContent = text;\n",
              "  for (const key of Object.keys(styleAttributes)) {\n",
              "    element.style[key] = styleAttributes[key];\n",
              "  }\n",
              "  return element;\n",
              "}\n",
              "\n",
              "// Max number of bytes which will be uploaded at a time.\n",
              "const MAX_PAYLOAD_SIZE = 100 * 1024;\n",
              "\n",
              "function _uploadFiles(inputId, outputId) {\n",
              "  const steps = uploadFilesStep(inputId, outputId);\n",
              "  const outputElement = document.getElementById(outputId);\n",
              "  // Cache steps on the outputElement to make it available for the next call\n",
              "  // to uploadFilesContinue from Python.\n",
              "  outputElement.steps = steps;\n",
              "\n",
              "  return _uploadFilesContinue(outputId);\n",
              "}\n",
              "\n",
              "// This is roughly an async generator (not supported in the browser yet),\n",
              "// where there are multiple asynchronous steps and the Python side is going\n",
              "// to poll for completion of each step.\n",
              "// This uses a Promise to block the python side on completion of each step,\n",
              "// then passes the result of the previous step as the input to the next step.\n",
              "function _uploadFilesContinue(outputId) {\n",
              "  const outputElement = document.getElementById(outputId);\n",
              "  const steps = outputElement.steps;\n",
              "\n",
              "  const next = steps.next(outputElement.lastPromiseValue);\n",
              "  return Promise.resolve(next.value.promise).then((value) => {\n",
              "    // Cache the last promise value to make it available to the next\n",
              "    // step of the generator.\n",
              "    outputElement.lastPromiseValue = value;\n",
              "    return next.value.response;\n",
              "  });\n",
              "}\n",
              "\n",
              "/**\n",
              " * Generator function which is called between each async step of the upload\n",
              " * process.\n",
              " * @param {string} inputId Element ID of the input file picker element.\n",
              " * @param {string} outputId Element ID of the output display.\n",
              " * @return {!Iterable<!Object>} Iterable of next steps.\n",
              " */\n",
              "function* uploadFilesStep(inputId, outputId) {\n",
              "  const inputElement = document.getElementById(inputId);\n",
              "  inputElement.disabled = false;\n",
              "\n",
              "  const outputElement = document.getElementById(outputId);\n",
              "  outputElement.innerHTML = '';\n",
              "\n",
              "  const pickedPromise = new Promise((resolve) => {\n",
              "    inputElement.addEventListener('change', (e) => {\n",
              "      resolve(e.target.files);\n",
              "    });\n",
              "  });\n",
              "\n",
              "  const cancel = document.createElement('button');\n",
              "  inputElement.parentElement.appendChild(cancel);\n",
              "  cancel.textContent = 'Cancel upload';\n",
              "  const cancelPromise = new Promise((resolve) => {\n",
              "    cancel.onclick = () => {\n",
              "      resolve(null);\n",
              "    };\n",
              "  });\n",
              "\n",
              "  // Wait for the user to pick the files.\n",
              "  const files = yield {\n",
              "    promise: Promise.race([pickedPromise, cancelPromise]),\n",
              "    response: {\n",
              "      action: 'starting',\n",
              "    }\n",
              "  };\n",
              "\n",
              "  cancel.remove();\n",
              "\n",
              "  // Disable the input element since further picks are not allowed.\n",
              "  inputElement.disabled = true;\n",
              "\n",
              "  if (!files) {\n",
              "    return {\n",
              "      response: {\n",
              "        action: 'complete',\n",
              "      }\n",
              "    };\n",
              "  }\n",
              "\n",
              "  for (const file of files) {\n",
              "    const li = document.createElement('li');\n",
              "    li.append(span(file.name, {fontWeight: 'bold'}));\n",
              "    li.append(span(\n",
              "        `(${file.type || 'n/a'}) - ${file.size} bytes, ` +\n",
              "        `last modified: ${\n",
              "            file.lastModifiedDate ? file.lastModifiedDate.toLocaleDateString() :\n",
              "                                    'n/a'} - `));\n",
              "    const percent = span('0% done');\n",
              "    li.appendChild(percent);\n",
              "\n",
              "    outputElement.appendChild(li);\n",
              "\n",
              "    const fileDataPromise = new Promise((resolve) => {\n",
              "      const reader = new FileReader();\n",
              "      reader.onload = (e) => {\n",
              "        resolve(e.target.result);\n",
              "      };\n",
              "      reader.readAsArrayBuffer(file);\n",
              "    });\n",
              "    // Wait for the data to be ready.\n",
              "    let fileData = yield {\n",
              "      promise: fileDataPromise,\n",
              "      response: {\n",
              "        action: 'continue',\n",
              "      }\n",
              "    };\n",
              "\n",
              "    // Use a chunked sending to avoid message size limits. See b/62115660.\n",
              "    let position = 0;\n",
              "    do {\n",
              "      const length = Math.min(fileData.byteLength - position, MAX_PAYLOAD_SIZE);\n",
              "      const chunk = new Uint8Array(fileData, position, length);\n",
              "      position += length;\n",
              "\n",
              "      const base64 = btoa(String.fromCharCode.apply(null, chunk));\n",
              "      yield {\n",
              "        response: {\n",
              "          action: 'append',\n",
              "          file: file.name,\n",
              "          data: base64,\n",
              "        },\n",
              "      };\n",
              "\n",
              "      let percentDone = fileData.byteLength === 0 ?\n",
              "          100 :\n",
              "          Math.round((position / fileData.byteLength) * 100);\n",
              "      percent.textContent = `${percentDone}% done`;\n",
              "\n",
              "    } while (position < fileData.byteLength);\n",
              "  }\n",
              "\n",
              "  // All done.\n",
              "  yield {\n",
              "    response: {\n",
              "      action: 'complete',\n",
              "    }\n",
              "  };\n",
              "}\n",
              "\n",
              "scope.google = scope.google || {};\n",
              "scope.google.colab = scope.google.colab || {};\n",
              "scope.google.colab._files = {\n",
              "  _uploadFiles,\n",
              "  _uploadFilesContinue,\n",
              "};\n",
              "})(self);\n",
              "</script> "
            ]
          },
          "metadata": {}
        },
        {
          "output_type": "stream",
          "name": "stdout",
          "text": [
            "Saving carst.csv to carst.csv\n"
          ]
        }
      ]
    },
    {
      "cell_type": "code",
      "source": [
        "#Verificar se os dados foram importados\n",
        "print (uploaded['carst.csv'][:200].decode('utf-8') + '...')"
      ],
      "metadata": {
        "colab": {
          "base_uri": "https://localhost:8080/"
        },
        "id": "YGbAojfuYbvK",
        "outputId": "cd9c8552-d6b4-48e7-8d42-ef1edcaa5dc6"
      },
      "execution_count": null,
      "outputs": [
        {
          "output_type": "stream",
          "name": "stdout",
          "text": [
            "﻿brand/model/year,cap_vol,consumo,power,weight,cemm,nu_cy,Etype\r\n",
            "Gurgel BR800 0.8 1991,792,12,33,650,34.4,2,0\r\n",
            "FIAT UNO Mille EP 1996,994,10.4,58,870,18.6,4,0\r\n",
            "Hyundai HB20 Sense 2020,1000,12.8,80,9...\n"
          ]
        }
      ]
    },
    {
      "cell_type": "code",
      "source": [
        "#Observar os dados\n",
        "import io\n",
        "#import pandas as pd\n",
        "df = pd.read_csv(io.StringIO(uploaded['carst.csv'].decode('utf-8')))\n",
        "df.head(30)\n"
      ],
      "metadata": {
        "colab": {
          "base_uri": "https://localhost:8080/",
          "height": 927
        },
        "id": "7bB6NpeeWySu",
        "outputId": "0d6a6656-65ba-4c0e-a5ec-d3f8af317a4d"
      },
      "execution_count": null,
      "outputs": [
        {
          "output_type": "execute_result",
          "data": {
            "text/plain": [
              "                         brand/model/year  cap_vol  consumo  power  weight  \\\n",
              "0                   Gurgel BR800 0.8 1991      792     12.0     33     650   \n",
              "1                  FIAT UNO Mille EP 1996      994     10.4     58     870   \n",
              "2                 Hyundai HB20 Sense 2020     1000     12.8     80     989   \n",
              "3                    FIAT Strada 1.4 2016     1368     10.3     86    1084   \n",
              "4                 VolksWagen GOL 1.6 2015     1598     10.5    104     961   \n",
              "5            Chevrolet Cruze LTZ 1.8 2016     1796      8.5    144    1427   \n",
              "6                    Honda Civic EXR 2016     1997      9.5    155    1294   \n",
              "7                 Ford Focus 2.0 GLX 2012     1999      9.2    148    1347   \n",
              "8                       BMW 325i 3.0 2012     2996      6.5    218    1460   \n",
              "9                 AUDI A4 3.2 V6 Fsi 2011     3197      7.1    269    1610   \n",
              "10      Mercedes-Benz CLS 350 3.5 V6 2012     3498      6.6    306    1735   \n",
              "11      Mercedes-Benz CLS 500 5.5 V8 2007     5461      4.2    388    1760   \n",
              "12        Chevrolet Camaro SS 6.2 V8 2018     6162      6.4    461    1709   \n",
              "13            Pagani Zonda F 7.3 V12 2006     7291      3.0    602    1230   \n",
              "14  Volkswagen Polo Highline 1.0 Tsi 2021      999     11.4    128    1147   \n",
              "15   Chevrolet Tracker Premier 1.2 T 2021     1199     11.2    133    1271   \n",
              "16         Chevrolet Cruze LTZ 1.4 T 2021     1399     11.0    153    1321   \n",
              "17         Honda Civic Touring 1.5 T 2021     1498     11.0    173    1329   \n",
              "18        Peugeot 306 Griffe 1.6 THP 2019     1598     10.6    173    1392   \n",
              "19       Audi A4 Attraction 1.8 TSFi 2015     1798      8.7    170    1470   \n",
              "20              BMW 320i Sport 2.0 T 2020     1998     10.5    184    1460   \n",
              "21           Porsche Panamera 3.0 V6 2018     2995      7.8    330    1815   \n",
              "22                Honda NSX 3.5 V6 T 2017     3493      7.0    507    1725   \n",
              "23         Nissan GTR Nismo 3.8 V6 T 2015     3799      5.0    608    1729   \n",
              "24    Mercedes-Benz E63 S AMG 4.0 V8 2021     3982      6.1    612    1935   \n",
              "25       Aston Martin DB11 5.2 V12 T 2017     5204      2.6    608    1770   \n",
              "26           Pagani Huayra 6.0 V12 T 2014     5980      3.0    730    1350   \n",
              "27            Bugatti Chiron 8.0 W16 2016     7993      3.8   1500    1998   \n",
              "\n",
              "    cemm  nu_cy  Etype  \n",
              "0   34.4      2      0  \n",
              "1   18.6      4      0  \n",
              "2   14.5      3      0  \n",
              "3   12.5      4      0  \n",
              "4    9.8      4      0  \n",
              "5   10.2      4      0  \n",
              "6   10.9      4      0  \n",
              "7   10.4      4      0  \n",
              "8    7.1      6      0  \n",
              "9    6.4      6      0  \n",
              "10   6.1      6      0  \n",
              "11   5.4      8      0  \n",
              "12   4.2      8      0  \n",
              "13   3.6     12      0  \n",
              "14   9.6      3      1  \n",
              "15   9.4      3      1  \n",
              "16   9.0      4      1  \n",
              "17   8.6      4      1  \n",
              "18   8.3      4      1  \n",
              "19   8.3      4      1  \n",
              "20   7.1      4      1  \n",
              "21   5.7      6      1  \n",
              "22   3.3      6      1  \n",
              "23   2.7      6      1  \n",
              "24   3.4      8      1  \n",
              "25   3.9     12      1  \n",
              "26   3.3     12      1  \n",
              "27   2.5     16      1  "
            ],
            "text/html": [
              "\n",
              "  <div id=\"df-2ff1cb87-f0c4-4f7a-913d-da427a1823cf\" class=\"colab-df-container\">\n",
              "    <div>\n",
              "<style scoped>\n",
              "    .dataframe tbody tr th:only-of-type {\n",
              "        vertical-align: middle;\n",
              "    }\n",
              "\n",
              "    .dataframe tbody tr th {\n",
              "        vertical-align: top;\n",
              "    }\n",
              "\n",
              "    .dataframe thead th {\n",
              "        text-align: right;\n",
              "    }\n",
              "</style>\n",
              "<table border=\"1\" class=\"dataframe\">\n",
              "  <thead>\n",
              "    <tr style=\"text-align: right;\">\n",
              "      <th></th>\n",
              "      <th>brand/model/year</th>\n",
              "      <th>cap_vol</th>\n",
              "      <th>consumo</th>\n",
              "      <th>power</th>\n",
              "      <th>weight</th>\n",
              "      <th>cemm</th>\n",
              "      <th>nu_cy</th>\n",
              "      <th>Etype</th>\n",
              "    </tr>\n",
              "  </thead>\n",
              "  <tbody>\n",
              "    <tr>\n",
              "      <th>0</th>\n",
              "      <td>Gurgel BR800 0.8 1991</td>\n",
              "      <td>792</td>\n",
              "      <td>12.0</td>\n",
              "      <td>33</td>\n",
              "      <td>650</td>\n",
              "      <td>34.4</td>\n",
              "      <td>2</td>\n",
              "      <td>0</td>\n",
              "    </tr>\n",
              "    <tr>\n",
              "      <th>1</th>\n",
              "      <td>FIAT UNO Mille EP 1996</td>\n",
              "      <td>994</td>\n",
              "      <td>10.4</td>\n",
              "      <td>58</td>\n",
              "      <td>870</td>\n",
              "      <td>18.6</td>\n",
              "      <td>4</td>\n",
              "      <td>0</td>\n",
              "    </tr>\n",
              "    <tr>\n",
              "      <th>2</th>\n",
              "      <td>Hyundai HB20 Sense 2020</td>\n",
              "      <td>1000</td>\n",
              "      <td>12.8</td>\n",
              "      <td>80</td>\n",
              "      <td>989</td>\n",
              "      <td>14.5</td>\n",
              "      <td>3</td>\n",
              "      <td>0</td>\n",
              "    </tr>\n",
              "    <tr>\n",
              "      <th>3</th>\n",
              "      <td>FIAT Strada 1.4 2016</td>\n",
              "      <td>1368</td>\n",
              "      <td>10.3</td>\n",
              "      <td>86</td>\n",
              "      <td>1084</td>\n",
              "      <td>12.5</td>\n",
              "      <td>4</td>\n",
              "      <td>0</td>\n",
              "    </tr>\n",
              "    <tr>\n",
              "      <th>4</th>\n",
              "      <td>VolksWagen GOL 1.6 2015</td>\n",
              "      <td>1598</td>\n",
              "      <td>10.5</td>\n",
              "      <td>104</td>\n",
              "      <td>961</td>\n",
              "      <td>9.8</td>\n",
              "      <td>4</td>\n",
              "      <td>0</td>\n",
              "    </tr>\n",
              "    <tr>\n",
              "      <th>5</th>\n",
              "      <td>Chevrolet Cruze LTZ 1.8 2016</td>\n",
              "      <td>1796</td>\n",
              "      <td>8.5</td>\n",
              "      <td>144</td>\n",
              "      <td>1427</td>\n",
              "      <td>10.2</td>\n",
              "      <td>4</td>\n",
              "      <td>0</td>\n",
              "    </tr>\n",
              "    <tr>\n",
              "      <th>6</th>\n",
              "      <td>Honda Civic EXR 2016</td>\n",
              "      <td>1997</td>\n",
              "      <td>9.5</td>\n",
              "      <td>155</td>\n",
              "      <td>1294</td>\n",
              "      <td>10.9</td>\n",
              "      <td>4</td>\n",
              "      <td>0</td>\n",
              "    </tr>\n",
              "    <tr>\n",
              "      <th>7</th>\n",
              "      <td>Ford Focus 2.0 GLX 2012</td>\n",
              "      <td>1999</td>\n",
              "      <td>9.2</td>\n",
              "      <td>148</td>\n",
              "      <td>1347</td>\n",
              "      <td>10.4</td>\n",
              "      <td>4</td>\n",
              "      <td>0</td>\n",
              "    </tr>\n",
              "    <tr>\n",
              "      <th>8</th>\n",
              "      <td>BMW 325i 3.0 2012</td>\n",
              "      <td>2996</td>\n",
              "      <td>6.5</td>\n",
              "      <td>218</td>\n",
              "      <td>1460</td>\n",
              "      <td>7.1</td>\n",
              "      <td>6</td>\n",
              "      <td>0</td>\n",
              "    </tr>\n",
              "    <tr>\n",
              "      <th>9</th>\n",
              "      <td>AUDI A4 3.2 V6 Fsi 2011</td>\n",
              "      <td>3197</td>\n",
              "      <td>7.1</td>\n",
              "      <td>269</td>\n",
              "      <td>1610</td>\n",
              "      <td>6.4</td>\n",
              "      <td>6</td>\n",
              "      <td>0</td>\n",
              "    </tr>\n",
              "    <tr>\n",
              "      <th>10</th>\n",
              "      <td>Mercedes-Benz CLS 350 3.5 V6 2012</td>\n",
              "      <td>3498</td>\n",
              "      <td>6.6</td>\n",
              "      <td>306</td>\n",
              "      <td>1735</td>\n",
              "      <td>6.1</td>\n",
              "      <td>6</td>\n",
              "      <td>0</td>\n",
              "    </tr>\n",
              "    <tr>\n",
              "      <th>11</th>\n",
              "      <td>Mercedes-Benz CLS 500 5.5 V8 2007</td>\n",
              "      <td>5461</td>\n",
              "      <td>4.2</td>\n",
              "      <td>388</td>\n",
              "      <td>1760</td>\n",
              "      <td>5.4</td>\n",
              "      <td>8</td>\n",
              "      <td>0</td>\n",
              "    </tr>\n",
              "    <tr>\n",
              "      <th>12</th>\n",
              "      <td>Chevrolet Camaro SS 6.2 V8 2018</td>\n",
              "      <td>6162</td>\n",
              "      <td>6.4</td>\n",
              "      <td>461</td>\n",
              "      <td>1709</td>\n",
              "      <td>4.2</td>\n",
              "      <td>8</td>\n",
              "      <td>0</td>\n",
              "    </tr>\n",
              "    <tr>\n",
              "      <th>13</th>\n",
              "      <td>Pagani Zonda F 7.3 V12 2006</td>\n",
              "      <td>7291</td>\n",
              "      <td>3.0</td>\n",
              "      <td>602</td>\n",
              "      <td>1230</td>\n",
              "      <td>3.6</td>\n",
              "      <td>12</td>\n",
              "      <td>0</td>\n",
              "    </tr>\n",
              "    <tr>\n",
              "      <th>14</th>\n",
              "      <td>Volkswagen Polo Highline 1.0 Tsi 2021</td>\n",
              "      <td>999</td>\n",
              "      <td>11.4</td>\n",
              "      <td>128</td>\n",
              "      <td>1147</td>\n",
              "      <td>9.6</td>\n",
              "      <td>3</td>\n",
              "      <td>1</td>\n",
              "    </tr>\n",
              "    <tr>\n",
              "      <th>15</th>\n",
              "      <td>Chevrolet Tracker Premier 1.2 T 2021</td>\n",
              "      <td>1199</td>\n",
              "      <td>11.2</td>\n",
              "      <td>133</td>\n",
              "      <td>1271</td>\n",
              "      <td>9.4</td>\n",
              "      <td>3</td>\n",
              "      <td>1</td>\n",
              "    </tr>\n",
              "    <tr>\n",
              "      <th>16</th>\n",
              "      <td>Chevrolet Cruze LTZ 1.4 T 2021</td>\n",
              "      <td>1399</td>\n",
              "      <td>11.0</td>\n",
              "      <td>153</td>\n",
              "      <td>1321</td>\n",
              "      <td>9.0</td>\n",
              "      <td>4</td>\n",
              "      <td>1</td>\n",
              "    </tr>\n",
              "    <tr>\n",
              "      <th>17</th>\n",
              "      <td>Honda Civic Touring 1.5 T 2021</td>\n",
              "      <td>1498</td>\n",
              "      <td>11.0</td>\n",
              "      <td>173</td>\n",
              "      <td>1329</td>\n",
              "      <td>8.6</td>\n",
              "      <td>4</td>\n",
              "      <td>1</td>\n",
              "    </tr>\n",
              "    <tr>\n",
              "      <th>18</th>\n",
              "      <td>Peugeot 306 Griffe 1.6 THP 2019</td>\n",
              "      <td>1598</td>\n",
              "      <td>10.6</td>\n",
              "      <td>173</td>\n",
              "      <td>1392</td>\n",
              "      <td>8.3</td>\n",
              "      <td>4</td>\n",
              "      <td>1</td>\n",
              "    </tr>\n",
              "    <tr>\n",
              "      <th>19</th>\n",
              "      <td>Audi A4 Attraction 1.8 TSFi 2015</td>\n",
              "      <td>1798</td>\n",
              "      <td>8.7</td>\n",
              "      <td>170</td>\n",
              "      <td>1470</td>\n",
              "      <td>8.3</td>\n",
              "      <td>4</td>\n",
              "      <td>1</td>\n",
              "    </tr>\n",
              "    <tr>\n",
              "      <th>20</th>\n",
              "      <td>BMW 320i Sport 2.0 T 2020</td>\n",
              "      <td>1998</td>\n",
              "      <td>10.5</td>\n",
              "      <td>184</td>\n",
              "      <td>1460</td>\n",
              "      <td>7.1</td>\n",
              "      <td>4</td>\n",
              "      <td>1</td>\n",
              "    </tr>\n",
              "    <tr>\n",
              "      <th>21</th>\n",
              "      <td>Porsche Panamera 3.0 V6 2018</td>\n",
              "      <td>2995</td>\n",
              "      <td>7.8</td>\n",
              "      <td>330</td>\n",
              "      <td>1815</td>\n",
              "      <td>5.7</td>\n",
              "      <td>6</td>\n",
              "      <td>1</td>\n",
              "    </tr>\n",
              "    <tr>\n",
              "      <th>22</th>\n",
              "      <td>Honda NSX 3.5 V6 T 2017</td>\n",
              "      <td>3493</td>\n",
              "      <td>7.0</td>\n",
              "      <td>507</td>\n",
              "      <td>1725</td>\n",
              "      <td>3.3</td>\n",
              "      <td>6</td>\n",
              "      <td>1</td>\n",
              "    </tr>\n",
              "    <tr>\n",
              "      <th>23</th>\n",
              "      <td>Nissan GTR Nismo 3.8 V6 T 2015</td>\n",
              "      <td>3799</td>\n",
              "      <td>5.0</td>\n",
              "      <td>608</td>\n",
              "      <td>1729</td>\n",
              "      <td>2.7</td>\n",
              "      <td>6</td>\n",
              "      <td>1</td>\n",
              "    </tr>\n",
              "    <tr>\n",
              "      <th>24</th>\n",
              "      <td>Mercedes-Benz E63 S AMG 4.0 V8 2021</td>\n",
              "      <td>3982</td>\n",
              "      <td>6.1</td>\n",
              "      <td>612</td>\n",
              "      <td>1935</td>\n",
              "      <td>3.4</td>\n",
              "      <td>8</td>\n",
              "      <td>1</td>\n",
              "    </tr>\n",
              "    <tr>\n",
              "      <th>25</th>\n",
              "      <td>Aston Martin DB11 5.2 V12 T 2017</td>\n",
              "      <td>5204</td>\n",
              "      <td>2.6</td>\n",
              "      <td>608</td>\n",
              "      <td>1770</td>\n",
              "      <td>3.9</td>\n",
              "      <td>12</td>\n",
              "      <td>1</td>\n",
              "    </tr>\n",
              "    <tr>\n",
              "      <th>26</th>\n",
              "      <td>Pagani Huayra 6.0 V12 T 2014</td>\n",
              "      <td>5980</td>\n",
              "      <td>3.0</td>\n",
              "      <td>730</td>\n",
              "      <td>1350</td>\n",
              "      <td>3.3</td>\n",
              "      <td>12</td>\n",
              "      <td>1</td>\n",
              "    </tr>\n",
              "    <tr>\n",
              "      <th>27</th>\n",
              "      <td>Bugatti Chiron 8.0 W16 2016</td>\n",
              "      <td>7993</td>\n",
              "      <td>3.8</td>\n",
              "      <td>1500</td>\n",
              "      <td>1998</td>\n",
              "      <td>2.5</td>\n",
              "      <td>16</td>\n",
              "      <td>1</td>\n",
              "    </tr>\n",
              "  </tbody>\n",
              "</table>\n",
              "</div>\n",
              "    <div class=\"colab-df-buttons\">\n",
              "\n",
              "  <div class=\"colab-df-container\">\n",
              "    <button class=\"colab-df-convert\" onclick=\"convertToInteractive('df-2ff1cb87-f0c4-4f7a-913d-da427a1823cf')\"\n",
              "            title=\"Convert this dataframe to an interactive table.\"\n",
              "            style=\"display:none;\">\n",
              "\n",
              "  <svg xmlns=\"http://www.w3.org/2000/svg\" height=\"24px\" viewBox=\"0 -960 960 960\">\n",
              "    <path d=\"M120-120v-720h720v720H120Zm60-500h600v-160H180v160Zm220 220h160v-160H400v160Zm0 220h160v-160H400v160ZM180-400h160v-160H180v160Zm440 0h160v-160H620v160ZM180-180h160v-160H180v160Zm440 0h160v-160H620v160Z\"/>\n",
              "  </svg>\n",
              "    </button>\n",
              "\n",
              "  <style>\n",
              "    .colab-df-container {\n",
              "      display:flex;\n",
              "      gap: 12px;\n",
              "    }\n",
              "\n",
              "    .colab-df-convert {\n",
              "      background-color: #E8F0FE;\n",
              "      border: none;\n",
              "      border-radius: 50%;\n",
              "      cursor: pointer;\n",
              "      display: none;\n",
              "      fill: #1967D2;\n",
              "      height: 32px;\n",
              "      padding: 0 0 0 0;\n",
              "      width: 32px;\n",
              "    }\n",
              "\n",
              "    .colab-df-convert:hover {\n",
              "      background-color: #E2EBFA;\n",
              "      box-shadow: 0px 1px 2px rgba(60, 64, 67, 0.3), 0px 1px 3px 1px rgba(60, 64, 67, 0.15);\n",
              "      fill: #174EA6;\n",
              "    }\n",
              "\n",
              "    .colab-df-buttons div {\n",
              "      margin-bottom: 4px;\n",
              "    }\n",
              "\n",
              "    [theme=dark] .colab-df-convert {\n",
              "      background-color: #3B4455;\n",
              "      fill: #D2E3FC;\n",
              "    }\n",
              "\n",
              "    [theme=dark] .colab-df-convert:hover {\n",
              "      background-color: #434B5C;\n",
              "      box-shadow: 0px 1px 3px 1px rgba(0, 0, 0, 0.15);\n",
              "      filter: drop-shadow(0px 1px 2px rgba(0, 0, 0, 0.3));\n",
              "      fill: #FFFFFF;\n",
              "    }\n",
              "  </style>\n",
              "\n",
              "    <script>\n",
              "      const buttonEl =\n",
              "        document.querySelector('#df-2ff1cb87-f0c4-4f7a-913d-da427a1823cf button.colab-df-convert');\n",
              "      buttonEl.style.display =\n",
              "        google.colab.kernel.accessAllowed ? 'block' : 'none';\n",
              "\n",
              "      async function convertToInteractive(key) {\n",
              "        const element = document.querySelector('#df-2ff1cb87-f0c4-4f7a-913d-da427a1823cf');\n",
              "        const dataTable =\n",
              "          await google.colab.kernel.invokeFunction('convertToInteractive',\n",
              "                                                    [key], {});\n",
              "        if (!dataTable) return;\n",
              "\n",
              "        const docLinkHtml = 'Like what you see? Visit the ' +\n",
              "          '<a target=\"_blank\" href=https://colab.research.google.com/notebooks/data_table.ipynb>data table notebook</a>'\n",
              "          + ' to learn more about interactive tables.';\n",
              "        element.innerHTML = '';\n",
              "        dataTable['output_type'] = 'display_data';\n",
              "        await google.colab.output.renderOutput(dataTable, element);\n",
              "        const docLink = document.createElement('div');\n",
              "        docLink.innerHTML = docLinkHtml;\n",
              "        element.appendChild(docLink);\n",
              "      }\n",
              "    </script>\n",
              "  </div>\n",
              "\n",
              "\n",
              "<div id=\"df-87c68cad-a413-4bca-8a05-8d984edc5930\">\n",
              "  <button class=\"colab-df-quickchart\" onclick=\"quickchart('df-87c68cad-a413-4bca-8a05-8d984edc5930')\"\n",
              "            title=\"Suggest charts\"\n",
              "            style=\"display:none;\">\n",
              "\n",
              "<svg xmlns=\"http://www.w3.org/2000/svg\" height=\"24px\"viewBox=\"0 0 24 24\"\n",
              "     width=\"24px\">\n",
              "    <g>\n",
              "        <path d=\"M19 3H5c-1.1 0-2 .9-2 2v14c0 1.1.9 2 2 2h14c1.1 0 2-.9 2-2V5c0-1.1-.9-2-2-2zM9 17H7v-7h2v7zm4 0h-2V7h2v10zm4 0h-2v-4h2v4z\"/>\n",
              "    </g>\n",
              "</svg>\n",
              "  </button>\n",
              "\n",
              "<style>\n",
              "  .colab-df-quickchart {\n",
              "      --bg-color: #E8F0FE;\n",
              "      --fill-color: #1967D2;\n",
              "      --hover-bg-color: #E2EBFA;\n",
              "      --hover-fill-color: #174EA6;\n",
              "      --disabled-fill-color: #AAA;\n",
              "      --disabled-bg-color: #DDD;\n",
              "  }\n",
              "\n",
              "  [theme=dark] .colab-df-quickchart {\n",
              "      --bg-color: #3B4455;\n",
              "      --fill-color: #D2E3FC;\n",
              "      --hover-bg-color: #434B5C;\n",
              "      --hover-fill-color: #FFFFFF;\n",
              "      --disabled-bg-color: #3B4455;\n",
              "      --disabled-fill-color: #666;\n",
              "  }\n",
              "\n",
              "  .colab-df-quickchart {\n",
              "    background-color: var(--bg-color);\n",
              "    border: none;\n",
              "    border-radius: 50%;\n",
              "    cursor: pointer;\n",
              "    display: none;\n",
              "    fill: var(--fill-color);\n",
              "    height: 32px;\n",
              "    padding: 0;\n",
              "    width: 32px;\n",
              "  }\n",
              "\n",
              "  .colab-df-quickchart:hover {\n",
              "    background-color: var(--hover-bg-color);\n",
              "    box-shadow: 0 1px 2px rgba(60, 64, 67, 0.3), 0 1px 3px 1px rgba(60, 64, 67, 0.15);\n",
              "    fill: var(--button-hover-fill-color);\n",
              "  }\n",
              "\n",
              "  .colab-df-quickchart-complete:disabled,\n",
              "  .colab-df-quickchart-complete:disabled:hover {\n",
              "    background-color: var(--disabled-bg-color);\n",
              "    fill: var(--disabled-fill-color);\n",
              "    box-shadow: none;\n",
              "  }\n",
              "\n",
              "  .colab-df-spinner {\n",
              "    border: 2px solid var(--fill-color);\n",
              "    border-color: transparent;\n",
              "    border-bottom-color: var(--fill-color);\n",
              "    animation:\n",
              "      spin 1s steps(1) infinite;\n",
              "  }\n",
              "\n",
              "  @keyframes spin {\n",
              "    0% {\n",
              "      border-color: transparent;\n",
              "      border-bottom-color: var(--fill-color);\n",
              "      border-left-color: var(--fill-color);\n",
              "    }\n",
              "    20% {\n",
              "      border-color: transparent;\n",
              "      border-left-color: var(--fill-color);\n",
              "      border-top-color: var(--fill-color);\n",
              "    }\n",
              "    30% {\n",
              "      border-color: transparent;\n",
              "      border-left-color: var(--fill-color);\n",
              "      border-top-color: var(--fill-color);\n",
              "      border-right-color: var(--fill-color);\n",
              "    }\n",
              "    40% {\n",
              "      border-color: transparent;\n",
              "      border-right-color: var(--fill-color);\n",
              "      border-top-color: var(--fill-color);\n",
              "    }\n",
              "    60% {\n",
              "      border-color: transparent;\n",
              "      border-right-color: var(--fill-color);\n",
              "    }\n",
              "    80% {\n",
              "      border-color: transparent;\n",
              "      border-right-color: var(--fill-color);\n",
              "      border-bottom-color: var(--fill-color);\n",
              "    }\n",
              "    90% {\n",
              "      border-color: transparent;\n",
              "      border-bottom-color: var(--fill-color);\n",
              "    }\n",
              "  }\n",
              "</style>\n",
              "\n",
              "  <script>\n",
              "    async function quickchart(key) {\n",
              "      const quickchartButtonEl =\n",
              "        document.querySelector('#' + key + ' button');\n",
              "      quickchartButtonEl.disabled = true;  // To prevent multiple clicks.\n",
              "      quickchartButtonEl.classList.add('colab-df-spinner');\n",
              "      try {\n",
              "        const charts = await google.colab.kernel.invokeFunction(\n",
              "            'suggestCharts', [key], {});\n",
              "      } catch (error) {\n",
              "        console.error('Error during call to suggestCharts:', error);\n",
              "      }\n",
              "      quickchartButtonEl.classList.remove('colab-df-spinner');\n",
              "      quickchartButtonEl.classList.add('colab-df-quickchart-complete');\n",
              "    }\n",
              "    (() => {\n",
              "      let quickchartButtonEl =\n",
              "        document.querySelector('#df-87c68cad-a413-4bca-8a05-8d984edc5930 button');\n",
              "      quickchartButtonEl.style.display =\n",
              "        google.colab.kernel.accessAllowed ? 'block' : 'none';\n",
              "    })();\n",
              "  </script>\n",
              "</div>\n",
              "\n",
              "    </div>\n",
              "  </div>\n"
            ],
            "application/vnd.google.colaboratory.intrinsic+json": {
              "type": "dataframe",
              "variable_name": "df",
              "summary": "{\n  \"name\": \"df\",\n  \"rows\": 28,\n  \"fields\": [\n    {\n      \"column\": \"brand/model/year\",\n      \"properties\": {\n        \"dtype\": \"string\",\n        \"num_unique_values\": 28,\n        \"samples\": [\n          \"AUDI A4 3.2 V6 Fsi 2011\",\n          \"Aston Martin DB11 5.2 V12 T 2017\",\n          \"BMW 325i 3.0 2012\"\n        ],\n        \"semantic_type\": \"\",\n        \"description\": \"\"\n      }\n    },\n    {\n      \"column\": \"cap_vol\",\n      \"properties\": {\n        \"dtype\": \"number\",\n        \"std\": 2043,\n        \"min\": 792,\n        \"max\": 7993,\n        \"num_unique_values\": 27,\n        \"samples\": [\n          2996,\n          7291,\n          3197\n        ],\n        \"semantic_type\": \"\",\n        \"description\": \"\"\n      }\n    },\n    {\n      \"column\": \"consumo\",\n      \"properties\": {\n        \"dtype\": \"number\",\n        \"std\": 3.0171708777959703,\n        \"min\": 2.6,\n        \"max\": 12.8,\n        \"num_unique_values\": 25,\n        \"samples\": [\n          6.5,\n          11.0,\n          12.0\n        ],\n        \"semantic_type\": \"\",\n        \"description\": \"\"\n      }\n    },\n    {\n      \"column\": \"power\",\n      \"properties\": {\n        \"dtype\": \"number\",\n        \"std\": 307,\n        \"min\": 33,\n        \"max\": 1500,\n        \"num_unique_values\": 26,\n        \"samples\": [\n          218,\n          153,\n          33\n        ],\n        \"semantic_type\": \"\",\n        \"description\": \"\"\n      }\n    },\n    {\n      \"column\": \"weight\",\n      \"properties\": {\n        \"dtype\": \"number\",\n        \"std\": 332,\n        \"min\": 650,\n        \"max\": 1998,\n        \"num_unique_values\": 27,\n        \"samples\": [\n          1460,\n          1230,\n          1610\n        ],\n        \"semantic_type\": \"\",\n        \"description\": \"\"\n      }\n    },\n    {\n      \"column\": \"cemm\",\n      \"properties\": {\n        \"dtype\": \"number\",\n        \"std\": 6.34212422477987,\n        \"min\": 2.5,\n        \"max\": 34.4,\n        \"num_unique_values\": 25,\n        \"samples\": [\n          7.1,\n          9.0,\n          34.4\n        ],\n        \"semantic_type\": \"\",\n        \"description\": \"\"\n      }\n    },\n    {\n      \"column\": \"nu_cy\",\n      \"properties\": {\n        \"dtype\": \"number\",\n        \"std\": 3,\n        \"min\": 2,\n        \"max\": 16,\n        \"num_unique_values\": 7,\n        \"samples\": [\n          2,\n          4,\n          12\n        ],\n        \"semantic_type\": \"\",\n        \"description\": \"\"\n      }\n    },\n    {\n      \"column\": \"Etype\",\n      \"properties\": {\n        \"dtype\": \"number\",\n        \"std\": 0,\n        \"min\": 0,\n        \"max\": 1,\n        \"num_unique_values\": 2,\n        \"samples\": [\n          1,\n          0\n        ],\n        \"semantic_type\": \"\",\n        \"description\": \"\"\n      }\n    }\n  ]\n}"
            }
          },
          "metadata": {},
          "execution_count": 8
        }
      ]
    },
    {
      "cell_type": "code",
      "source": [
        "#@title tratamento de dados\n",
        "df1 = pd.DataFrame(data=df)\n",
        "c0=df1[\"brand/model/year\"]\n",
        "c1=df1[\"cap_vol\"]\n",
        "c2=df1[\"consumo\"]\n",
        "c3=df1[\"power\"]\n",
        "c4=df1[\"weight\"]\n",
        "c5=df1[\"cemm\"]\n",
        "c6=df1[\"nu_cy\"]\n",
        "c7=df1[\"Etype\"]"
      ],
      "metadata": {
        "id": "caBgd3rHMeY5"
      },
      "execution_count": null,
      "outputs": []
    },
    {
      "cell_type": "code",
      "source": [
        "# Consumo vs. potência para todos os carros\n",
        "df1 = pd.DataFrame(data=df)\n",
        "plt.rcParams.update({'figure.figsize':(8,6), 'figure.dpi':100})\n",
        "plt.scatter(df1['cap_vol'],df1['consumo'])\n",
        "plt.xlabel('Capacidade volumétrica');\n",
        "plt.ylabel('Consumo de combustível')\n",
        "plt.grid(True)\n",
        "plt.show()"
      ],
      "metadata": {
        "colab": {
          "base_uri": "https://localhost:8080/",
          "height": 542
        },
        "id": "Z2U8pNmuMY-v",
        "outputId": "e2db3355-7885-4f36-b77d-b14c4170ae89"
      },
      "execution_count": null,
      "outputs": [
        {
          "output_type": "display_data",
          "data": {
            "text/plain": [
              "<Figure size 800x600 with 1 Axes>"
            ],
            "image/png": "[encoded data removed]"
          },
          "metadata": {}
        }
      ]
    },
    {
      "cell_type": "markdown",
      "source": [
        "# Obter a equação da reta de mínimos quadrados - Opção 1\n",
        "$y= \\beta_0 + \\beta_1 x_1$  \n",
        "onde:\n",
        "\n",
        "$\\hat{\\beta_1}=\\frac{S_xy}{S_xy} $\n",
        "\n",
        "$\\beta_0=\\bar{y}-\\hat{\\beta_1}x_i $"
      ],
      "metadata": {
        "id": "FyVhngBhLMuL"
      }
    },
    {
      "cell_type": "markdown",
      "source": [
        "![aula4.png](data:image/png;base64,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)"
      ],
      "metadata": {
        "id": "MZJdhf1B-Aha"
      }
    },
    {
      "cell_type": "code",
      "source": [
        "# fonte: Adaptado de https://github.com/OpenGenus/quark/blob/master/code/code/artificial_intelligence/src/Linear_Regression/linear_regression.py\n",
        "#import numpy as np\n",
        "#import matplotlib.pyplot as plt\n",
        "def estimate_coef(x, y):\n",
        "    # Número de amostras\n",
        "    n = np.size(x)\n",
        "\n",
        "    # média dos valores x e y\n",
        "    m_x = np.mean(x)\n",
        "    m_y = np.mean(y)\n",
        "\n",
        "    # Calculo da relação cruzada e correlação de x\n",
        "    SS_xy = np.sum(y*x) - n*m_y*m_x\n",
        "    SS_xx = np.sum(x*x) - n*m_x*m_x\n",
        "\n",
        "    # Aplicar as fórmulas para obter os parÂmetros beta 0 e beta 1\n",
        "    b_1 = SS_xy / SS_xx\n",
        "    b_0 = m_y - b_1 * m_x\n",
        "    return (b_0, b_1)\n",
        "\n",
        " #criar gráfico para observar o resultado\n",
        "def plot_regression_line(x, y, b):\n",
        "    # plotting the actual points as scatter plot\n",
        "    plt.scatter(x, y, color = \"m\",\n",
        "               marker = \"o\", s = 30)\n",
        "\n",
        "    # predicted response vector\n",
        "    y_pred = b[0] + b[1]*x\n",
        "\n",
        "    # plotting the regression line\n",
        "    plt.plot(x, y_pred, color = \"g\")\n",
        "\n",
        "    # putting labels\n",
        "    plt.xlabel('x')\n",
        "    plt.ylabel('y')\n",
        "\n",
        "    # function to show plot\n",
        "    plt.grid(True)\n",
        "    plt.show()\n",
        "\n",
        "def main():\n",
        "    # definir os dados (variáveis) x e y\n",
        "    x= df['cap_vol']  # capacidade volumêtrica, variável preditora\n",
        "    y= df['consumo'] # consumo, variável resposta\n",
        "\n",
        "\n",
        "    # estimar os coeficientes ou parâmetros\n",
        "    b = estimate_coef(x, y)\n",
        "    print(\"Estimated coefficients:\\nb_0 = {}  \\\n",
        "          \\nb_1 = {}\".format(b[0], b[1]))\n",
        "\n",
        "    # plotar a curva de regressão linear\n",
        "    plot_regression_line(x, y, b)\n",
        "\n",
        "if __name__ == \"__main__\":\n",
        "    main()"
      ],
      "metadata": {
        "colab": {
          "base_uri": "https://localhost:8080/",
          "height": 594
        },
        "id": "FTZK5VKTNtqO",
        "outputId": "e61581f2-34dd-4830-9f13-862c5f603314"
      },
      "execution_count": null,
      "outputs": [
        {
          "output_type": "stream",
          "name": "stdout",
          "text": [
            "Estimated coefficients:\n",
            "b_0 = 12.144010117932384            \n",
            "b_1 = -0.0013478460028317721\n"
          ]
        },
        {
          "output_type": "display_data",
          "data": {
            "text/plain": [
              "<Figure size 800x600 with 1 Axes>"
            ],
            "image/png": "[encoded data removed]"
          },
          "metadata": {}
        }
      ]
    },
    {
      "cell_type": "markdown",
      "source": [
        "## Observar os dados com a reta obtida"
      ],
      "metadata": {
        "id": "1hjCwqPpPaHm"
      }
    },
    {
      "cell_type": "code",
      "source": [
        "plt.rcParams.update({'figure.figsize':(10,8), 'figure.dpi':100})\n",
        "sns.lmplot(x='cap_vol', y='consumo', data=df);plt.grid(True)"
      ],
      "metadata": {
        "colab": {
          "base_uri": "https://localhost:8080/",
          "height": 506
        },
        "id": "9JNwb7eRfV2J",
        "outputId": "339ec240-42ee-4802-af3f-cf54766843a3"
      },
      "execution_count": null,
      "outputs": [
        {
          "output_type": "display_data",
          "data": {
            "image/png": "[encoded data removed]",
            "text/plain": [
              "<Figure size 500x500 with 1 Axes>"
            ]
          },
          "metadata": {
            "needs_background": "light"
          }
        }
      ]
    },
    {
      "cell_type": "markdown",
      "source": [
        "## Criar duas bases de dados para motor aspirado e motor turbo"
      ],
      "metadata": {
        "id": "F-CbKi9Vw_ye"
      }
    },
    {
      "cell_type": "code",
      "source": [
        "plt.rcParams.update({'figure.figsize':(10,8), 'figure.dpi':100})\n",
        "sns.lmplot(x='power', y='consumo',hue='Etype', data=df1);plt.grid(True)"
      ],
      "metadata": {
        "colab": {
          "base_uri": "https://localhost:8080/",
          "height": 505
        },
        "id": "TVJuKTVaMy0t",
        "outputId": "9d138d9a-461a-479d-df29-dc5e60a9a57e"
      },
      "execution_count": null,
      "outputs": [
        {
          "output_type": "display_data",
          "data": {
            "image/png": "[encoded data removed]",
            "text/plain": [
              "<Figure size 558.875x500 with 1 Axes>"
            ]
          },
          "metadata": {
            "needs_background": "light"
          }
        }
      ]
    },
    {
      "cell_type": "markdown",
      "source": [
        "## Obter a Equação da reta de regressão para os subconjuntos de dados"
      ],
      "metadata": {
        "id": "_shNi5CQ46v3"
      }
    },
    {
      "cell_type": "markdown",
      "source": [
        "### Equação da reta Consumo vs. Potência - Todos os motores\n",
        "Considerando todos os carros:\n",
        "$y= \\beta_0 + \\beta_1 x_1$  \n",
        "\n",
        "$y= 12,14401  -0.00135 x_1$  \n",
        "\n"
      ],
      "metadata": {
        "id": "UcrTZWyhBTNf"
      }
    },
    {
      "cell_type": "markdown",
      "source": [
        "### Equação da reta Consumo vs. Potência - Motor Aspirado\n",
        "Considerando os carros com motor aspirado:\n",
        "\n",
        "$y= \\beta_0 + \\beta_1 x_1$  \n",
        "\n",
        "$y= 11.72962 - 0.0012593 x_1$  \n",
        "\n"
      ],
      "metadata": {
        "id": "KRT-6UaXBRVw"
      }
    },
    {
      "cell_type": "markdown",
      "source": [
        "### Equação da reta Consumo vs. Potência  - Motor Turbo\n",
        "Considerando os carros com motor turbo:\n",
        "\n",
        "$y= \\beta_0 + \\beta_1 x_1$  \n",
        "\n",
        "$y= 12.320915 -0.001429x_1$  \n"
      ],
      "metadata": {
        "id": "yDFASQCLBbET"
      }
    },
    {
      "cell_type": "markdown",
      "source": [
        "# Obter a equação da reta de mínimos quadrados - Opção 2\n",
        "$y= \\beta_0 + \\beta_1 x_1$  "
      ],
      "metadata": {
        "id": "Q-mQSVg4sqkj"
      }
    },
    {
      "cell_type": "code",
      "source": [
        "#usando numpy\n",
        "y = c2\n",
        "#definir a vriável preditora\n",
        "x = c1\n",
        "z = np.polyfit(x,y,1)\n",
        "print('y= {0} {1}x'.format(z[1],z[0]))"
      ],
      "metadata": {
        "colab": {
          "base_uri": "https://localhost:8080/"
        },
        "id": "2_UI1nC6sOk0",
        "outputId": "ffa17434-fd3c-42bb-813d-8350e9401374"
      },
      "execution_count": null,
      "outputs": [
        {
          "output_type": "stream",
          "name": "stdout",
          "text": [
            "y= 12.144010117932384 -0.0013478460028317726x\n"
          ]
        }
      ]
    },
    {
      "cell_type": "markdown",
      "source": [
        "# Obter a equação da reta de mínimos quadrados - Opção 3\n",
        "$y= \\beta_0 + \\beta_1 x_1$  "
      ],
      "metadata": {
        "id": "bEDh4ZUPQBcb"
      }
    },
    {
      "cell_type": "code",
      "source": [
        "#usando statsmodels.api\n",
        "#https://www.statology.org/sst-ssr-sse-in-python/\n",
        "import statsmodels.api as sm\n",
        "#definir a variável resposta\n",
        "y = df1['consumo']\n",
        "#definir a variável preditora\n",
        "x = df1[['cap_vol']]\n",
        "#adicionar uma constante preditora\n",
        "x = sm.add_constant(x)\n",
        "#fit linear regression model\n",
        "modelo = sm.OLS(y, x).fit() #atenção esta variável será usada no IC\n",
        "print(modelo.summary())\n",
        "# mais infomrações https://www.statsmodels.org/stable/index.html\n"
      ],
      "metadata": {
        "colab": {
          "base_uri": "https://localhost:8080/"
        },
        "id": "RC097jWVKsAV",
        "outputId": "02bdec25-f0f8-4f98-dd7c-b11fd130feb2"
      },
      "execution_count": null,
      "outputs": [
        {
          "output_type": "stream",
          "name": "stderr",
          "text": [
            "/usr/local/lib/python3.7/dist-packages/statsmodels/tools/_testing.py:19: FutureWarning: pandas.util.testing is deprecated. Use the functions in the public API at pandas.testing instead.\n",
            "  import pandas.util.testing as tm\n"
          ]
        },
        {
          "output_type": "stream",
          "name": "stdout",
          "text": [
            "                            OLS Regression Results                            \n",
            "==============================================================================\n",
            "Dep. Variable:                consumo   R-squared:                       0.833\n",
            "Model:                            OLS   Adj. R-squared:                  0.827\n",
            "Method:                 Least Squares   F-statistic:                     129.9\n",
            "Date:                Tue, 08 Feb 2022   Prob (F-statistic):           1.30e-11\n",
            "Time:                        00:29:36   Log-Likelihood:                -45.064\n",
            "No. Observations:                  28   AIC:                             94.13\n",
            "Df Residuals:                      26   BIC:                             96.79\n",
            "Df Model:                           1                                         \n",
            "Covariance Type:            nonrobust                                         \n",
            "==============================================================================\n",
            "                 coef    std err          t      P>|t|      [0.025      0.975]\n",
            "------------------------------------------------------------------------------\n",
            "const         12.1440      0.427     28.435      0.000      11.266      13.022\n",
            "cap_vol       -0.0013      0.000    -11.398      0.000      -0.002      -0.001\n",
            "==============================================================================\n",
            "Omnibus:                        0.268   Durbin-Watson:                   1.555\n",
            "Prob(Omnibus):                  0.875   Jarque-Bera (JB):                0.200\n",
            "Skew:                           0.181   Prob(JB):                        0.905\n",
            "Kurtosis:                       2.798   Cond. No.                     6.50e+03\n",
            "==============================================================================\n",
            "\n",
            "Warnings:\n",
            "[1] Standard Errors assume that the covariance matrix of the errors is correctly specified.\n",
            "[2] The condition number is large, 6.5e+03. This might indicate that there are\n",
            "strong multicollinearity or other numerical problems.\n"
          ]
        },
        {
          "output_type": "stream",
          "name": "stderr",
          "text": [
            "/usr/local/lib/python3.7/dist-packages/statsmodels/tsa/tsatools.py:117: FutureWarning: In a future version of pandas all arguments of concat except for the argument 'objs' will be keyword-only\n",
            "  x = pd.concat(x[::order], 1)\n"
          ]
        }
      ]
    },
    {
      "cell_type": "code",
      "source": [
        "import statsmodels.api as sm\n",
        "dfmo = pd.DataFrame(modelo.summary().tables[1].data)\n",
        "# Select first row as column names:\n",
        "dfmo.columns = dfmo.iloc[0, :]\n",
        "# Select first column as row names\n",
        "dfmo.index = dfmo.iloc[:, 0]\n",
        "# Remove the first (i.e. 0th) column and first row\n",
        "dfmo = dfmo.iloc[1:, 1:]\n",
        "# Print relevant info only\n",
        "print(dfmo.iloc[:,[0, 1, 4, 5]])"
      ],
      "metadata": {
        "colab": {
          "base_uri": "https://localhost:8080/"
        },
        "id": "S-Qs1PjNnLS7",
        "outputId": "f47e3afc-f9c3-427a-eee6-2ad275717914"
      },
      "execution_count": null,
      "outputs": [
        {
          "output_type": "stream",
          "name": "stdout",
          "text": [
            "0              coef    std err     [0.025     0.975]\n",
            "                                                    \n",
            "const       12.1440      0.427     11.266     13.022\n",
            "cap_vol     -0.0013      0.000     -0.002     -0.001\n"
          ]
        }
      ]
    },
    {
      "cell_type": "markdown",
      "source": [
        "##Calcular os valores esperados de Y\n",
        "$\\hat{y}_i=\\hat{\\beta_0} + \\hat{\\beta_1} x_i$"
      ],
      "metadata": {
        "id": "Z1B35SVxPDy-"
      }
    },
    {
      "cell_type": "code",
      "source": [
        "#obter os valores esperados de y\n",
        "#$\\hat{y}_i=\\hat{\\beta_0} + \\hat{\\beta_1} x_i$\n",
        "ychapeu= modelo.fittedvalues\n",
        "ychapeu\n",
        "dfy = pd.DataFrame(data=ychapeu)\n",
        "dfy"
      ],
      "metadata": {
        "id": "BjOpyvL0Nj1m",
        "colab": {
          "base_uri": "https://localhost:8080/",
          "height": 926
        },
        "outputId": "3935000c-422f-4592-a612-a1da33cb76af"
      },
      "execution_count": null,
      "outputs": [
        {
          "output_type": "execute_result",
          "data": {
            "text/html": [
              "\n",
              "  <div id=\"df-7e9ce409-1308-458a-abd8-1d636b309fa3\">\n",
              "    <div class=\"colab-df-container\">\n",
              "      <div>\n",
              "<style scoped>\n",
              "    .dataframe tbody tr th:only-of-type {\n",
              "        vertical-align: middle;\n",
              "    }\n",
              "\n",
              "    .dataframe tbody tr th {\n",
              "        vertical-align: top;\n",
              "    }\n",
              "\n",
              "    .dataframe thead th {\n",
              "        text-align: right;\n",
              "    }\n",
              "</style>\n",
              "<table border=\"1\" class=\"dataframe\">\n",
              "  <thead>\n",
              "    <tr style=\"text-align: right;\">\n",
              "      <th></th>\n",
              "      <th>0</th>\n",
              "    </tr>\n",
              "  </thead>\n",
              "  <tbody>\n",
              "    <tr>\n",
              "      <th>0</th>\n",
              "      <td>11.076516</td>\n",
              "    </tr>\n",
              "    <tr>\n",
              "      <th>1</th>\n",
              "      <td>10.804251</td>\n",
              "    </tr>\n",
              "    <tr>\n",
              "      <th>2</th>\n",
              "      <td>10.796164</td>\n",
              "    </tr>\n",
              "    <tr>\n",
              "      <th>3</th>\n",
              "      <td>10.300157</td>\n",
              "    </tr>\n",
              "    <tr>\n",
              "      <th>4</th>\n",
              "      <td>9.990152</td>\n",
              "    </tr>\n",
              "    <tr>\n",
              "      <th>5</th>\n",
              "      <td>9.723279</td>\n",
              "    </tr>\n",
              "    <tr>\n",
              "      <th>6</th>\n",
              "      <td>9.452362</td>\n",
              "    </tr>\n",
              "    <tr>\n",
              "      <th>7</th>\n",
              "      <td>9.449666</td>\n",
              "    </tr>\n",
              "    <tr>\n",
              "      <th>8</th>\n",
              "      <td>8.105863</td>\n",
              "    </tr>\n",
              "    <tr>\n",
              "      <th>9</th>\n",
              "      <td>7.834946</td>\n",
              "    </tr>\n",
              "    <tr>\n",
              "      <th>10</th>\n",
              "      <td>7.429245</td>\n",
              "    </tr>\n",
              "    <tr>\n",
              "      <th>11</th>\n",
              "      <td>4.783423</td>\n",
              "    </tr>\n",
              "    <tr>\n",
              "      <th>12</th>\n",
              "      <td>3.838583</td>\n",
              "    </tr>\n",
              "    <tr>\n",
              "      <th>13</th>\n",
              "      <td>2.316865</td>\n",
              "    </tr>\n",
              "    <tr>\n",
              "      <th>14</th>\n",
              "      <td>10.797512</td>\n",
              "    </tr>\n",
              "    <tr>\n",
              "      <th>15</th>\n",
              "      <td>10.527943</td>\n",
              "    </tr>\n",
              "    <tr>\n",
              "      <th>16</th>\n",
              "      <td>10.258374</td>\n",
              "    </tr>\n",
              "    <tr>\n",
              "      <th>17</th>\n",
              "      <td>10.124937</td>\n",
              "    </tr>\n",
              "    <tr>\n",
              "      <th>18</th>\n",
              "      <td>9.990152</td>\n",
              "    </tr>\n",
              "    <tr>\n",
              "      <th>19</th>\n",
              "      <td>9.720583</td>\n",
              "    </tr>\n",
              "    <tr>\n",
              "      <th>20</th>\n",
              "      <td>9.451014</td>\n",
              "    </tr>\n",
              "    <tr>\n",
              "      <th>21</th>\n",
              "      <td>8.107211</td>\n",
              "    </tr>\n",
              "    <tr>\n",
              "      <th>22</th>\n",
              "      <td>7.435984</td>\n",
              "    </tr>\n",
              "    <tr>\n",
              "      <th>23</th>\n",
              "      <td>7.023543</td>\n",
              "    </tr>\n",
              "    <tr>\n",
              "      <th>24</th>\n",
              "      <td>6.776887</td>\n",
              "    </tr>\n",
              "    <tr>\n",
              "      <th>25</th>\n",
              "      <td>5.129820</td>\n",
              "    </tr>\n",
              "    <tr>\n",
              "      <th>26</th>\n",
              "      <td>4.083891</td>\n",
              "    </tr>\n",
              "    <tr>\n",
              "      <th>27</th>\n",
              "      <td>1.370677</td>\n",
              "    </tr>\n",
              "  </tbody>\n",
              "</table>\n",
              "</div>\n",
              "      <button class=\"colab-df-convert\" onclick=\"convertToInteractive('df-7e9ce409-1308-458a-abd8-1d636b309fa3')\"\n",
              "              title=\"Convert this dataframe to an interactive table.\"\n",
              "              style=\"display:none;\">\n",
              "        \n",
              "  <svg xmlns=\"http://www.w3.org/2000/svg\" height=\"24px\"viewBox=\"0 0 24 24\"\n",
              "       width=\"24px\">\n",
              "    <path d=\"M0 0h24v24H0V0z\" fill=\"none\"/>\n",
              "    <path d=\"M18.56 5.44l.94 2.06.94-2.06 2.06-.94-2.06-.94-.94-2.06-.94 2.06-2.06.94zm-11 1L8.5 8.5l.94-2.06 2.06-.94-2.06-.94L8.5 2.5l-.94 2.06-2.06.94zm10 10l.94 2.06.94-2.06 2.06-.94-2.06-.94-.94-2.06-.94 2.06-2.06.94z\"/><path d=\"M17.41 7.96l-1.37-1.37c-.4-.4-.92-.59-1.43-.59-.52 0-1.04.2-1.43.59L10.3 9.45l-7.72 7.72c-.78.78-.78 2.05 0 2.83L4 21.41c.39.39.9.59 1.41.59.51 0 1.02-.2 1.41-.59l7.78-7.78 2.81-2.81c.8-.78.8-2.07 0-2.86zM5.41 20L4 18.59l7.72-7.72 1.47 1.35L5.41 20z\"/>\n",
              "  </svg>\n",
              "      </button>\n",
              "      \n",
              "  <style>\n",
              "    .colab-df-container {\n",
              "      display:flex;\n",
              "      flex-wrap:wrap;\n",
              "      gap: 12px;\n",
              "    }\n",
              "\n",
              "    .colab-df-convert {\n",
              "      background-color: #E8F0FE;\n",
              "      border: none;\n",
              "      border-radius: 50%;\n",
              "      cursor: pointer;\n",
              "      display: none;\n",
              "      fill: #1967D2;\n",
              "      height: 32px;\n",
              "      padding: 0 0 0 0;\n",
              "      width: 32px;\n",
              "    }\n",
              "\n",
              "    .colab-df-convert:hover {\n",
              "      background-color: #E2EBFA;\n",
              "      box-shadow: 0px 1px 2px rgba(60, 64, 67, 0.3), 0px 1px 3px 1px rgba(60, 64, 67, 0.15);\n",
              "      fill: #174EA6;\n",
              "    }\n",
              "\n",
              "    [theme=dark] .colab-df-convert {\n",
              "      background-color: #3B4455;\n",
              "      fill: #D2E3FC;\n",
              "    }\n",
              "\n",
              "    [theme=dark] .colab-df-convert:hover {\n",
              "      background-color: #434B5C;\n",
              "      box-shadow: 0px 1px 3px 1px rgba(0, 0, 0, 0.15);\n",
              "      filter: drop-shadow(0px 1px 2px rgba(0, 0, 0, 0.3));\n",
              "      fill: #FFFFFF;\n",
              "    }\n",
              "  </style>\n",
              "\n",
              "      <script>\n",
              "        const buttonEl =\n",
              "          document.querySelector('#df-7e9ce409-1308-458a-abd8-1d636b309fa3 button.colab-df-convert');\n",
              "        buttonEl.style.display =\n",
              "          google.colab.kernel.accessAllowed ? 'block' : 'none';\n",
              "\n",
              "        async function convertToInteractive(key) {\n",
              "          const element = document.querySelector('#df-7e9ce409-1308-458a-abd8-1d636b309fa3');\n",
              "          const dataTable =\n",
              "            await google.colab.kernel.invokeFunction('convertToInteractive',\n",
              "                                                     [key], {});\n",
              "          if (!dataTable) return;\n",
              "\n",
              "          const docLinkHtml = 'Like what you see? Visit the ' +\n",
              "            '<a target=\"_blank\" href=https://colab.research.google.com/notebooks/data_table.ipynb>data table notebook</a>'\n",
              "            + ' to learn more about interactive tables.';\n",
              "          element.innerHTML = '';\n",
              "          dataTable['output_type'] = 'display_data';\n",
              "          await google.colab.output.renderOutput(dataTable, element);\n",
              "          const docLink = document.createElement('div');\n",
              "          docLink.innerHTML = docLinkHtml;\n",
              "          element.appendChild(docLink);\n",
              "        }\n",
              "      </script>\n",
              "    </div>\n",
              "  </div>\n",
              "  "
            ],
            "text/plain": [
              "            0\n",
              "0   11.076516\n",
              "1   10.804251\n",
              "2   10.796164\n",
              "3   10.300157\n",
              "4    9.990152\n",
              "5    9.723279\n",
              "6    9.452362\n",
              "7    9.449666\n",
              "8    8.105863\n",
              "9    7.834946\n",
              "10   7.429245\n",
              "11   4.783423\n",
              "12   3.838583\n",
              "13   2.316865\n",
              "14  10.797512\n",
              "15  10.527943\n",
              "16  10.258374\n",
              "17  10.124937\n",
              "18   9.990152\n",
              "19   9.720583\n",
              "20   9.451014\n",
              "21   8.107211\n",
              "22   7.435984\n",
              "23   7.023543\n",
              "24   6.776887\n",
              "25   5.129820\n",
              "26   4.083891\n",
              "27   1.370677"
            ]
          },
          "metadata": {},
          "execution_count": 26
        }
      ]
    },
    {
      "cell_type": "markdown",
      "source": [
        "## Calcular os resíduos"
      ],
      "metadata": {
        "id": "m9uSbT8CiUC6"
      }
    },
    {
      "cell_type": "code",
      "source": [
        "#resíduos\n",
        "res=ychapeu-c2\n",
        "res"
      ],
      "metadata": {
        "colab": {
          "base_uri": "https://localhost:8080/"
        },
        "id": "EijisbTEYEu0",
        "outputId": "a8154961-8307-4c20-bc11-9009a4865992"
      },
      "execution_count": null,
      "outputs": [
        {
          "output_type": "execute_result",
          "data": {
            "text/plain": [
              "0    -0.923484\n",
              "1     0.404251\n",
              "2    -2.003836\n",
              "3     0.000157\n",
              "4    -0.509848\n",
              "5     1.223279\n",
              "6    -0.047638\n",
              "7     0.249666\n",
              "8     1.605863\n",
              "9     0.734946\n",
              "10    0.829245\n",
              "11    0.583423\n",
              "12   -2.561417\n",
              "13   -0.683135\n",
              "14   -0.602488\n",
              "15   -0.672057\n",
              "16   -0.741626\n",
              "17   -0.875063\n",
              "18   -0.609848\n",
              "19    1.020583\n",
              "20   -1.048986\n",
              "21    0.307211\n",
              "22    0.435984\n",
              "23    2.023543\n",
              "24    0.676887\n",
              "25    2.529820\n",
              "26    1.083891\n",
              "27   -2.429323\n",
              "dtype: float64"
            ]
          },
          "metadata": {},
          "execution_count": 27
        }
      ]
    },
    {
      "cell_type": "markdown",
      "source": [
        "## Calcular o quadrado do resíduo"
      ],
      "metadata": {
        "id": "tCks-EvyiqSe"
      }
    },
    {
      "cell_type": "code",
      "source": [
        "# Quadra dos resíduos\n",
        "res2=res**2\n",
        "res2"
      ],
      "metadata": {
        "colab": {
          "base_uri": "https://localhost:8080/"
        },
        "id": "PSop-Wz0em7M",
        "outputId": "c08d7173-5179-45b8-c881-30a4bbb7a937"
      },
      "execution_count": null,
      "outputs": [
        {
          "output_type": "execute_result",
          "data": {
            "text/plain": [
              "0     8.528225e-01\n",
              "1     1.634190e-01\n",
              "2     4.015358e+00\n",
              "3     2.458187e-08\n",
              "4     2.599448e-01\n",
              "5     1.496411e+00\n",
              "6     2.269412e-03\n",
              "7     6.233309e-02\n",
              "8     2.578798e+00\n",
              "9     5.401463e-01\n",
              "10    6.876469e-01\n",
              "11    3.403825e-01\n",
              "12    6.560857e+00\n",
              "13    4.666735e-01\n",
              "14    3.629918e-01\n",
              "15    4.516609e-01\n",
              "16    5.500098e-01\n",
              "17    7.657356e-01\n",
              "18    3.719143e-01\n",
              "19    1.041590e+00\n",
              "20    1.100372e+00\n",
              "21    9.437881e-02\n",
              "22    1.900821e-01\n",
              "23    4.094727e+00\n",
              "24    4.581765e-01\n",
              "25    6.399987e+00\n",
              "26    1.174820e+00\n",
              "27    5.901610e+00\n",
              "dtype: float64"
            ]
          },
          "metadata": {},
          "execution_count": 28
        }
      ]
    },
    {
      "cell_type": "code",
      "source": [
        "#@title Observar os valores em tabela\n",
        "from tabulate import tabulate\n",
        "df_yo = pd.DataFrame(c2).T\n",
        "df_ych = pd.DataFrame(dfy).T\n",
        "df_ycho = pd.DataFrame(res).T\n",
        "df_ycho2 = pd.DataFrame(res2).T\n",
        "table = [df_yo,df_ych,df_ycho,df_ycho2]\n",
        "print(tabulate(table))"
      ],
      "metadata": {
        "colab": {
          "base_uri": "https://localhost:8080/"
        },
        "id": "hfrkVuSqYsYA",
        "outputId": "280cce21-fa06-4414-ff5e-b2b99fe3e0be"
      },
      "execution_count": null,
      "outputs": [
        {
          "output_type": "stream",
          "name": "stdout",
          "text": [
            "---------  ---------  --------  ------------  ---------  -------  -----------  ---------  -------  --------  --------  --------  --------  ---------  ---------  ---------  ---------  ---------  ---------  -------  --------  ---------  --------  -------  --------  -------  -------  --------\n",
            "12         10.4       12.8      10.3          10.5       8.5       9.5         9.2        6.5      7.1       6.6       4.2        6.4       3         11.4       11.2       11         11         10.6       8.7      10.5      7.8        7         5        6.1       2.6      3         3.8\n",
            "11.0765    10.8043    10.7962   10.3002        9.99015   9.72328   9.45236     9.44967    8.10586  7.83495   7.42924   4.78342    3.83858   2.31686   10.7975    10.5279    10.2584    10.1249     9.99015   9.72058   9.45101  8.10721    7.43598   7.02354  6.77689   5.12982  4.08389   1.37068\n",
            "-0.923484   0.404251  -2.00384   0.000156786  -0.509848  1.22328  -0.0476383   0.249666   1.60586  0.734946  0.829245  0.583423  -2.56142  -0.683135  -0.602488  -0.672057  -0.741626  -0.875063  -0.609848  1.02058  -1.04899  0.307211   0.435984  2.02354  0.676887  2.52982  1.08389  -2.42932\n",
            " 0.852823   0.163419   4.01536   2.45819e-08   0.259945  1.49641   0.00226941  0.0623331  2.5788   0.540146  0.687647  0.340383   6.56086   0.466674   0.362992   0.451661   0.55001    0.765736   0.371914  1.04159   1.10037  0.0943788  0.190082  4.09473  0.458176  6.39999  1.17482   5.90161\n",
            "---------  ---------  --------  ------------  ---------  -------  -----------  ---------  -------  --------  --------  --------  --------  ---------  ---------  ---------  ---------  ---------  ---------  -------  --------  ---------  --------  -------  --------  -------  -------  --------\n"
          ]
        }
      ]
    },
    {
      "cell_type": "code",
      "source": [
        "#@title Calcular SQE e SQT Alternativa 1\n",
        "#Adaptado de https://www.statology.org/sst-ssr-sse-in-python/\n",
        "import numpy as np\n",
        "\n",
        "#calcular SQE--> Baseado nos valores esperados\n",
        "sqe = np.sum((ychapeu - df.consumo)**2)\n",
        "print(\"SQE=\", sqe)\n",
        "\n",
        "#calcular SQT-->Baseado nos valores observados\n",
        "sqt = np.sum((c2 - df.consumo.mean())**2)\n",
        "print(\"SQT=\", sqt)\n",
        "\n",
        "#calcular SQR\n",
        "sqr = sqt - sqe\n",
        "print(\"SQR=\",sqr)\n",
        "\n"
      ],
      "metadata": {
        "colab": {
          "base_uri": "https://localhost:8080/"
        },
        "id": "EB_g3QI8L07M",
        "outputId": "1dbc8ddc-052c-4c04-e10c-72b62022820c"
      },
      "execution_count": null,
      "outputs": [
        {
          "output_type": "stream",
          "name": "stdout",
          "text": [
            "SQE= 40.98511664985651\n",
            "SQT= 245.78964285714284\n",
            "SQR= 204.80452620728633\n"
          ]
        }
      ]
    },
    {
      "cell_type": "markdown",
      "source": [
        "# Calcular o coeficiente de determinação $r^2$"
      ],
      "metadata": {
        "id": "la9-jETalJnZ"
      }
    },
    {
      "cell_type": "code",
      "source": [
        "r2=1-sqe/sqt\n",
        "print(\"coeficiente de determinação=\",r2, \"ou\",r2*100, \"%\")"
      ],
      "metadata": {
        "colab": {
          "base_uri": "https://localhost:8080/"
        },
        "id": "9CgUbWbMlRIO",
        "outputId": "c255e4c9-3100-4ef3-b042-b7a31acf0337"
      },
      "execution_count": null,
      "outputs": [
        {
          "output_type": "stream",
          "name": "stdout",
          "text": [
            "coeficiente de determinação= 0.8332512461736324 ou 83.32512461736324 %\n"
          ]
        }
      ]
    },
    {
      "cell_type": "markdown",
      "source": [
        "# Calcular variância estimada $s^2$ e devio padrão estimado $s$"
      ],
      "metadata": {
        "id": "rl7yzvX2b5b7"
      }
    },
    {
      "cell_type": "code",
      "source": [
        "# variância estimada $s^2$ e desvio padrão estimado $s^2$\n",
        "s2=sqe/(len(c2)-2)\n",
        "s=pow(s2,1/2)\n",
        "print('variância estimada= {0}, desvio padrão estimado= {1}'.format(s2,s))"
      ],
      "metadata": {
        "colab": {
          "base_uri": "https://localhost:8080/"
        },
        "id": "KsrhqK89cOti",
        "outputId": "7496fd0a-6b2a-46b2-e26d-7d674698c66a"
      },
      "execution_count": null,
      "outputs": [
        {
          "output_type": "stream",
          "name": "stdout",
          "text": [
            "variância estimada= 1.5763506403790966, desvio padrão estimado= 1.2555280324943352\n"
          ]
        }
      ]
    },
    {
      "cell_type": "markdown",
      "source": [
        "Na sequência observe uma nova alternativa para calcular as variáveis $S_{xx},S_{xy},S_{yy}$ e o coeficiente de correlação (como plus) em uma única função."
      ],
      "metadata": {
        "id": "ygsflSUkYdeG"
      }
    },
    {
      "cell_type": "code",
      "source": [
        "#O seguinte código pode também ser usado previamente para calcular SQE, SQT, SQR e r2 (Alternativa 2)\n",
        "# fonte: Adaptado de https://www.geeksforgeeks.org/sum-function-python/\n",
        "def linreg(X, Y):\n",
        "    \"\"\"\n",
        "    retorna a solução b0 e b1 para a reta y = b0 + b1x e todas as somatórias necessárias\n",
        "    \"\"\"\n",
        "    N = len(X)\n",
        "    Sx = Sy = Sxx = Syy = Sxy = 0.0\n",
        "    for x, y in zip(X, Y):\n",
        "        Sx = Sx + x           # Somatória do termos x\n",
        "        Sy = Sy + y           # Somatória do termos y\n",
        "        Sxx = Sxx + x*x       # Somatória do termos x^2\n",
        "        Syy = Syy + y*y       # Somatória do termos y^2\n",
        "        Sxy = Sxy + x*y       # Somatória do termos x vezes y\n",
        "    det = Sxx * N - Sx * Sx   # variável auxiliar\n",
        "    Sxxt= Sxx - Sx*Sx/N       # Termo Sxx\n",
        "    Sxyt= Sxy - Sx*Sy/N       # Termo Sxy\n",
        "    Syyt= Syy - Sy*Sy/N       # Termo Syy\n",
        "    r=Sxyt/pow((Sxxt*Syyt), 1/2)\n",
        "    return (Sxy * N - Sy * Sx)/det, (Sxx * Sy - Sx * Sxy)/det, Sx, Sy, Sxx,  Syy , Sxy, Sxxt, Sxyt, Syyt,r\n"
      ],
      "metadata": {
        "id": "ng_oXeIVmV12"
      },
      "execution_count": null,
      "outputs": []
    },
    {
      "cell_type": "code",
      "source": [
        "#Mostrar os resultados\n",
        "b1,b0,sox,soy,sox2,soy2,soxy,sxx,sxy,syy,corr = linreg(df1['cap_vol'],df1['consumo'])  #\n",
        "print('b0= {0},b1= {1}'.format(b0,b1))\n",
        "print('Somatória x= {0}, Somatória y= {1},Somatória xy= {2}'.format(sox,soy,soxy))\n",
        "print('Somatória x^2= {0}, Somatória y^2= {1}'.format(sox2,soy2))\n",
        "print('Sxx= {0}, Syy {1}, Sxy {2}'.format(sxx,syy,sxy))\n",
        "print('r= {0}'.format(corr))"
      ],
      "metadata": {
        "colab": {
          "base_uri": "https://localhost:8080/"
        },
        "id": "nupQb0LipHWf",
        "outputId": "7883c1da-8058-4f80-a90c-e8ce85a6e676"
      },
      "execution_count": null,
      "outputs": [
        {
          "output_type": "stream",
          "name": "stdout",
          "text": [
            "b0= 12.14401011793238,b1= -0.0013478460028317728\n",
            "Somatória x= 84084.0, Somatória y= 226.7,Somatória xy= 528830.6\n",
            "Somatória x^2= 365239312.0, Somatória y^2= 2081.25\n",
            "Sxx= 112735060.0, Syy 245.78964285714324, Sxy -151949.5\n",
            "r= -0.912825967078956\n"
          ]
        }
      ]
    },
    {
      "cell_type": "markdown",
      "source": [
        "Observe que o coeficiente de correlação $r=-0.91$\n",
        "Observe que o coeficiente de determinação $r^2=0.8325$"
      ],
      "metadata": {
        "id": "Ve1t-3MQXyXI"
      }
    },
    {
      "cell_type": "markdown",
      "source": [
        "## SQE e SQT Alternativa 2\n",
        "Visto que os valores de Sxx, Syy e Sxy estão disponíveis, pode se também usar a simples susbtituição nas respectivas fórmulas de SQE e SQT\n"
      ],
      "metadata": {
        "id": "gWGzKtInw7Xm"
      }
    },
    {
      "cell_type": "code",
      "source": [
        "#SQE e SQT Alternativa 2\n",
        "sqe=syy-b1*sxy\n",
        "sqt=syy\n",
        "sqr=sqt-sqe\n",
        "sqe,sqt,sqr\n",
        "print('SQE= {0}, SQT {1}, SQR {2}'.format(sqe,sqt,sqr))"
      ],
      "metadata": {
        "colab": {
          "base_uri": "https://localhost:8080/"
        },
        "id": "wcqtp5yiwCNj",
        "outputId": "0ed3be1d-39d9-4603-f151-ce0a94cd10da"
      },
      "execution_count": null,
      "outputs": [
        {
          "output_type": "stream",
          "name": "stdout",
          "text": [
            "SQE= 40.985116649856764, SQT 245.78964285714324, SQR 204.80452620728647\n"
          ]
        }
      ]
    },
    {
      "cell_type": "markdown",
      "source": [
        "#Verificar o intervalo de confiança de $\\beta_1$\n",
        "\n",
        "Considerando a reta obtida dos dados de todos os motores $y= 12,14401  -0.00135 x_1$.\n",
        "\n",
        "Para finalizar, calcular o **erro padrão de ${\\beta_1}$** com a seguinte equação\n",
        "\n",
        "$s_{\\hat{\\beta_1}}=\\frac{s}{\\sqrt{S_{xx}}}$\n"
      ],
      "metadata": {
        "id": "KjLbeeLklsxb"
      }
    },
    {
      "cell_type": "code",
      "source": [
        "ebeta=s/pow(sxx,1/2)\n",
        "ebeta"
      ],
      "metadata": {
        "colab": {
          "base_uri": "https://localhost:8080/"
        },
        "id": "V4tY-5IebwdC",
        "outputId": "706c4a66-c8b5-4eb5-b380-fecdc2753e82"
      },
      "execution_count": null,
      "outputs": [
        {
          "output_type": "execute_result",
          "data": {
            "text/plain": [
              "0.00011824884667786773"
            ]
          },
          "metadata": {},
          "execution_count": 52
        }
      ]
    },
    {
      "cell_type": "markdown",
      "source": [
        "## Probabilidade t-student e intervalo de confiança"
      ],
      "metadata": {
        "id": "rx-5Rna4r5Us"
      }
    },
    {
      "cell_type": "code",
      "source": [
        "import statsmodels.api as sm\n",
        "# Automatic calculation\n",
        "lm_fit = modelo#sm.OLS(y, x_mat).fit()\n",
        "# dir(lm_fit)\n",
        "# Get the summary table with coefficients and other statistics\n",
        "df = pd.DataFrame(lm_fit.summary().tables[1].data)\n",
        "# Select first row as column names:\n",
        "df.columns = df.iloc[0, :]\n",
        "# Select first column as row names\n",
        "df.index = df.iloc[:, 0]\n",
        "# Remove the first (i.e. 0th) column and first row\n",
        "df = df.iloc[1:, 1:]\n",
        "# Print relevant info only\n",
        "print(df.iloc[:,[0, 1, 4, 5]])"
      ],
      "metadata": {
        "colab": {
          "base_uri": "https://localhost:8080/"
        },
        "id": "WWn8VlYEmNxn",
        "outputId": "50414216-ab8d-4eb4-aae4-dbe7d4eaee18"
      },
      "execution_count": null,
      "outputs": [
        {
          "output_type": "stream",
          "name": "stdout",
          "text": [
            "0              coef    std err     [0.025     0.975]\n",
            "                                                    \n",
            "const       12.1440      0.427     11.266     13.022\n",
            "cap_vol     -0.0013      0.000     -0.002     -0.001\n"
          ]
        }
      ]
    },
    {
      "cell_type": "markdown",
      "source": [
        "![aula6fEx1.png](data:image/png;base64,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)"
      ],
      "metadata": {
        "id": "DjPNn9LIzLKA"
      }
    },
    {
      "cell_type": "code",
      "source": [
        "#usar a tabela tstudent t0,025:N-2\n",
        "from scipy.stats import t\n",
        "alpha = 0.05  # nÍvel de significia = 5%\n",
        "df = len(c2) - 2  # graus de liberdade (Número de amostras menos dois)\n",
        "#\n",
        "v = t.ppf(1 - alpha/2, df)\n",
        "print(f'v: {v}')"
      ],
      "metadata": {
        "id": "o3SuBvZ0t8dO",
        "colab": {
          "base_uri": "https://localhost:8080/"
        },
        "outputId": "7515ac78-7d12-42f0-cbad-6b718be70039"
      },
      "execution_count": null,
      "outputs": [
        {
          "output_type": "stream",
          "name": "stdout",
          "text": [
            "v: 2.055529438642871\n"
          ]
        }
      ]
    },
    {
      "cell_type": "code",
      "source": [
        "#Finalmente calcular o IC de b1\n",
        "ICbeta1= b1+v*ebeta\n",
        "ICbeta2= b1-v*ebeta\n",
        "ICbeta2,ICbeta1,b1,v,ebeta\n",
        "print('O intevalo de confiança é {0} < b1 < {1}'.format(ICbeta2,ICbeta1))"
      ],
      "metadata": {
        "colab": {
          "base_uri": "https://localhost:8080/"
        },
        "id": "LQ0Y4MV4utMZ",
        "outputId": "1a2c06bf-303d-49a5-a4a8-5f575952b50a"
      },
      "execution_count": null,
      "outputs": [
        {
          "output_type": "stream",
          "name": "stdout",
          "text": [
            "O intevalo de confiança é -0.0015909099882636972 < b1 < -0.0011047820173998484\n"
          ]
        }
      ]
    }
  ]
}